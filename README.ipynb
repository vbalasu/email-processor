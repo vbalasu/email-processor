{
 "cells": [
  {
   "cell_type": "markdown",
   "metadata": {},
   "source": [
    "# email-processor\n",
    "\n",
    "Reads an incoming email, processes it, and responds"
   ]
  },
  {
   "cell_type": "code",
   "execution_count": 1,
   "metadata": {},
   "outputs": [],
   "source": [
    "# Read local email\n",
    "\n",
    "import email\n",
    "from email import policy\n",
    "with open('v4g5o5j2vngqu9rqv18128t7m18hahtsmj0l6r81.eml') as f:\n",
    "    msg = email.message_from_file(f, policy=policy.default)"
   ]
  },
  {
   "cell_type": "code",
   "execution_count": 2,
   "metadata": {},
   "outputs": [],
   "source": [
    "#msg.as_string()"
   ]
  },
  {
   "cell_type": "code",
   "execution_count": 3,
   "metadata": {},
   "outputs": [],
   "source": [
    "sender = msg.get('From')"
   ]
  },
  {
   "cell_type": "code",
   "execution_count": 4,
   "metadata": {},
   "outputs": [],
   "source": [
    "subject = msg.get('Subject')"
   ]
  },
  {
   "cell_type": "code",
   "execution_count": 5,
   "metadata": {},
   "outputs": [],
   "source": [
    "body_text = msg.get_body('plain').get_payload(decode=True)\n",
    "body_html = msg.get_body('html').get_payload(decode=True)"
   ]
  },
  {
   "cell_type": "markdown",
   "metadata": {},
   "source": [
    "### Respond with echo"
   ]
  },
  {
   "cell_type": "code",
   "execution_count": 6,
   "metadata": {},
   "outputs": [],
   "source": [
    "#from IPython.display import HTML\n",
    "#HTML(body_html.decode())"
   ]
  },
  {
   "cell_type": "code",
   "execution_count": 7,
   "metadata": {},
   "outputs": [
    {
     "name": "stdout",
     "output_type": "stream",
     "text": [
      "Vijay Balasubramaniam <vbalasu@gmail.com> Fwd: Weekly summary for Nithin b\"---------- Forwarded message ---------\\nFrom: Google Classroom <no-reply@classroom.google.com>\\nDate: Fri, Apr 16, 2021 at 4:33 PM\\nSubject: Weekly summary for Nithin\\nTo: <vbalasu@gmail.com>\\n\\n\\n[image: Classroom]\\nWeekly summary for Nithin\\nApr 9 \\xe2\\x80\\x93 Apr 16, 2021\\nStudent work\\nDue next week\\n\\n2020 2021 2 Fran\\xc3\\xa7ais 2 \\xe2\\x80\\x94 due Apr 16\\nNG 16/4 2B2 y et en introduction\\nEnglish 9 Honors \\xe2\\x80\\x94 due Apr 19\\nTKM: Part 6 Response\\nHW: Respond:\\xe2\\x80\\xa2 What are the responsibilities of being a citizen in a\\ndemocracy? In Maycomb, what factors get in the way of those\\nresponsibilities, even for those who wish their community was more just?\\nWhat factors get in the way in your community? \\xe2\\x80\\xa2 What has Scout learned\\nabout being a responsible adult and citizen over the course of the novel?\\nWhat people and experiences were most influential in her growth and\\ndevelopment? What people and experiences have had the greatest impact in\\nyour life?\\nEnglish 9 Honors \\xe2\\x80\\x94 due Apr 19\\nTKM: Part 6 Handouts\\nClass activity\\n22020 2021 2 Fran\\xc3\\xa7ais 2\\nHerveline Sartori\\nAnnouncement\\nZoom link\\n\\nHerveline Sartori is inviting you to a scheduled Zoom meeting.\\n\\nTopic: classe de fran\\xc3\\xa7ais\\nJoin Zoom Meeting\\nhttps://zoom.us/j/91003783230?pwd=MUhmQnhLTU4zVmFMcHlMY2Z4KzRqUT09\\n\\nMeeting ID: 910 0378 3230\\nPasscode: 919956\\n\\nMadame Sartori\\nPosted Apr 12\\n12/4 2b2 y et en et DOP IOP / ordre des pronoms (le\\xc3\\xa7on)\\nPosted Apr 12\\nAssignment \\xe2\\x80\\x94 due Apr 12\\n12/4 2B culture la s\\xc3\\xa9curit\\xc3\\xa9 sociale p. 110 et 111 (assigned for 1/4 by\\nmistake, was meant to be for 12/4)\\noh no sorry, I made a mistake, I assigned this too early, I meant to assign\\nthis after break. Sorry about this.\\n\\nWell everyone is done, you can all have a great break.\\nThanks for being amazing students!\\nPosted Mar 30\\nAnnouncement\\n12/4 le\\xc3\\xa7on + chat + read my note\\nPosted Apr 12\\nAssignment \\xe2\\x80\\x94 due Apr 14\\n14/4 Panorama: la Suisse p. 118 et 119\\nPosted Apr 12\\nAnnouncement\\n14/4 le\\xc3\\xa7on + chat\\nPosted Apr 14\\nAssignment \\xe2\\x80\\x94 due Apr 16\\n16/4 3A vocabulaire le son et l'image\\nPosted Apr 14\\nAssignment \\xe2\\x80\\x94 due Apr 16\\nNG 16/4 2B2 y et en introduction\\nPosted Apr 16\\nAnnouncement\\n16/4 le\\xc3\\xa7on + chat\\n+ introduction y et en\\np. 114 ex 2 et 3 + le\\xc3\\xa7on\\nPosted Apr 16\\n2b2 y et en le\\xc3\\xa7on et exercices p. 114 ex 2 et 3\\nPosted Apr 16\\n2b2 y et en le\\xc3\\xa7on et exercices p. 114 ex 2 et 3\\nPosted Apr 16\\nAnnouncement\\nZoom link\\n\\nHerveline Sartori is inviting you to a scheduled Zoom meeting.\\n\\nTopic: classe de fran\\xc3\\xa7ais\\nJoin Zoom Meeting\\nhttps://zoom.us/j/91003783230?pwd=MUhmQnhLTU4zVmFMcHlMY2Z4KzRqUT09\\n\\nMeeting ID: 910 0378 3230\\nPasscode: 919956\\n\\nMadame Sartori\\nPosted Apr 16\\nEEnglish 9 Honors\\nAnisha Malkani, Tiffany Stelle\\nAnnouncement\\nAlameda County Youth Poet Laureate 2021\\n\\nApplications for the Youth Poet Laureate program will be accepted from\\nThursday, April 1 through Friday, April 30, 2021.\\nAll applications are due on April 30, 2021.\\n\\nTo be eligible for the competition you must:\\n\\xc2\\xb7 Be an Alameda County resident, but not live in Oakland. For residents of\\nOakland, visit the Oakland Youth Poet Laureate Chapter.\\n\\xc2\\xb7 Be between the ages of 13-18 as of May 1, 2021.\\n\\xc2\\xb7 Be available to serve as Laureate for the program year, August 6, 2021 to\\nAugust 5, 2022 by living locally and not being enrolled in college full\\ntime during the tenure.\\nFinalists will be announced at the end of July.\\nPoems will be judged on content, craft, and voice. If you advance to the\\ninterview round, applicants are also judged on leadership and performance.\\nThe application:\\nhttps://aclibrary.org/youth-poet-2021-application/\\nPosted Apr 9\\nAnnouncement\\nHere are our reoccurring Zoom links. Please save these in your Google\\nCalander! We will be using this link all year!\\n\\nPeriod 1 (Mondays, Tuesdays, Thursdays):\\nhttps://zoom.us/j/96951277741?pwd=MTJsa1hUUnRDSjV6RzZOOU5pZmNzQT09\\n\\nPeriod 3 (Mondays, Tuesdays, Thursdays):\\nhttps://zoom.us/j/96920159152?pwd=SC9Wa2pwRm1Sa3pyWXZuWnFMK0dldz09\\n\\nPeriod 4 (Mondays, Wednesdays, Friday):\\nhttps://zoom.us/j/93293560155?pwd=bjR6SjN6dzkvUE1YTkd0UitrN0Q5QT09\\nPosted Aug 26\\nAnnouncement\\nNOVEL EXCHANGE!!!\\n\\nThe next novel exchange will take place on Tuesday and Wednesday, April\\n13-14 during office hours, break, and from 2:30-3:00 in the book room.\\n\\nYou will keep TKM as we are not done yet and keep F451 if you have it.\\nYou may return The Odyssey and OMAM if you still have them.\\nYou should pick up F451 (if you haven't), Animal Farm, and Romeo and\\nJuliet.\\n\\nI have PDFs for these, but if you want a hard copy please pick it up at the\\nabove times!!!\\nPosted Mar 29\\nAssignment \\xe2\\x80\\x94 due Apr 16\\nMC Week Housepoints (Optional)\\nTake a screen shot of your virtual background or profile picture for house\\npoints! Also, if you attended any events or fundraisers, include those as\\nwell!\\nPosted Apr 13\\nNovel Exchange\\nNOVEL EXCHANGE!!!\\n\\nThe next novel exchange will take place on Tuesday and Wednesday, April\\n13-14 during office hours, break, and from 2:30-3:00 in the book room.\\n\\nYou will keep TKM as we are not done yet and keep F451 if you have it.\\nYou may return The Odyssey and OMAM if you still have them.\\nYou should pick up F451 (if you haven't), Animal Farm, and Romeo and\\nJuliet.\\n\\nI have PDFs for these, but if you want a hard copy please pick it up at the\\nabove times!!!\\nPosted Apr 13\\nAnnouncement\\nHOUSE POINT WINNERS QUARTER 3:\\nPeriod 1: Gryffindor!\\nPeriod 3: Ravenclaw!\\nPeriod 4: Hufflepuff and Slytherin! (Tie)\\n\\n\\n\\n\\nTHE STUDENTS IN THE ABOVE GROUPS HAVE EARNED 2 FREE ASSIGNMENT PASSES TO BE\\nUSED ON CLASSWORK OR HOMEWORK ASSIGNMENTS (25 POINTS OR UNDER). YOU CAN\\nCLAIM THESE BY WRITING A PRIVATE COMMENT ON THE ASSIGNMENT ON GOOGLE\\nCLASSROOM IN WHICH YOU WANT TO USE THE PASS FOR.\\n\\n\\nPosted Apr 14\\nAnnouncement\\nheyyyy!\\n\\nIf you love boba then get excited because Peer Resource is launching a boba\\nraffle fundraiser! The raffle tickets are only $2.50 and we will be picking\\n10 lucky winners. Enter for your chance to win boba, delivered to your\\nfront doorstep! You can order until Wednesday, April 21st, at 11:59 PM.\\nWinners will be announced the next day on Peer Resource\\xe2\\x80\\x99s Instagram.\\n\\nMake sure to order using this form: https://tinyurl.com/peerbobaraffle and\\ncheck the description of the form for more details!\\n\\nAll of the money earned from this raffle will directly go to supporting the\\nannual Peer Benefit Show. We thank you for contributing, and good luck!\\n\\nPeer Resource\\nPosted Apr 14\\nAnnouncement\\nHOUSE GROUPS FOR 4th QUARTER!!!\\n\\n\\nThis quarter, the prize will be 10 extra points to be added to ANY\\nassignment(s)!!!!\\nPosted Apr 15\\nAnnouncement\\nHere is the feedback for for this week! Please take the time to fill it out!\\n\\n\\nhttps://forms.gle/wgdszVkCeNyv2gRTA\\n\\n\\nPosted Apr 16\\nDon't see a class? Contact the teacher. They might not use Classroom or may\\nnot have turned on guardian summaries.\\nForward to only those you trust. Anyone with this email may be able to\\nadjust your settings.\\nSettings\\n<https://notifications.google.com/g/p/AD-FnEzD85l_b-G6BU8IQTHzTCUTZsj2dBb_ffFmhKP370NkfeKoPZubEQ95TK-eBMqQ-SNH__lJIr6Io9JfAUBZsTM>\\nUnsubscribe\\n<https://notifications.google.com/g/p/AD-FnExU-F8UyMH8umjpKaDFIPirE8UQTZ66eCt1tJhYt-lJ5xNMfrDwkhPlpLDEuRrMM_tfColruYOdkE8D8cCQGRyRL-bOOIFRsk4q7ApbT1PdWoQSqDkhZB2fA3D7jyXTimFIIOnlEjNf1v4IBEDUziVEIw>\\n[image: Google logo]\\nGoogle LLC\\n1600 Amphitheatre Pkwy\\nMountain View, CA 94043 USA\\nIs this email helpful?\\nSend feedback\\n<https://notifications.google.com/g/p/AD-FnExJ0VTAfqVb8mPUp5WhCNwffdw1fWWfud3268zCHPsrMnkUToqIeBcx8bSDQ2X_BhSssHI9JFGqx0Wc8NbDfjgSi2U5ngZS4eTyHP1PJg>\\n\" b'<div dir=\"ltr\"><br><br><div class=\"gmail_quote\"><div dir=\"ltr\" class=\"gmail_attr\">---------- Forwarded message ---------<br>From: <strong class=\"gmail_sendername\" dir=\"auto\">Google Classroom</strong> <span dir=\"auto\">&lt;<a href=\"mailto:no-reply@classroom.google.com\">no-reply@classroom.google.com</a>&gt;</span><br>Date: Fri, Apr 16, 2021 at 4:33 PM<br>Subject: Weekly summary for Nithin<br>To:  &lt;<a href=\"mailto:vbalasu@gmail.com\">vbalasu@gmail.com</a>&gt;<br></div><br><br><div><table border=\"0\" cellpadding=\"0\" cellspacing=\"0\" style=\"border-collapse:collapse;margin:0;text-align:center;width:100%\"><tbody><tr><td style=\"font-family:Roboto,Helvetica,Arial,sans-serif;margin:0;padding:0;background:#eeeeee;display:inline-block;text-align:center\"><table border=\"0\" cellpadding=\"0\" cellspacing=\"0\" style=\"border-collapse:collapse;margin:0;background:#eeeeee;display:inline-block;max-width:700px;text-align:left\"><tbody><tr bgcolor=\"#646464\"><td style=\"background-color:#646464;padding-right:48px\" width=\"48px\"></td><td bgcolor=\"#646464\" style=\"text-align:center\"><div style=\"height:32px\"></div><img style=\"display:inline-block;margin:0\" height=\"36px\" width=\"36px\" src=\"https://www.gstatic.com/images/branding/product/2x/classroom_48dp.png\"><div style=\"height:16px\"></div><img alt=\"Classroom\" height=\"24px\" style=\"display:inline-block;margin:0\" width=\"180px\" src=\"https://www.gstatic.com/classroom/email/classroom_type_white.png\"><div style=\"height:16px\"></div><h1 style=\"color:#212121;font-size:20px;font-weight:700;margin:16px 0 4px 0;text-align:center;color:#ffffff\">Weekly summary for Nithin</h1><div style=\"height:8px\"></div><div style=\"color:#737373;font-size:14px;font-weight:400;color:#737373;font-weight:500;margin-bottom:16px;text-align:center;color:#ffffff\">Apr 9 \\xe2\\x80\\x93 Apr 16, 2021</div><div style=\"height:16px\"></div></td><td style=\"background-color:#646464;padding-right:48px\" width=\"48px\"></td></tr><tr bgcolor=\"#eeeeee\"><td style=\"background-color:#eeeeee;padding-right:48px\" width=\"48px\"></td><td width=\"100%\" bgcolor=\"#eeeeee\"><div style=\"height:16px\"></div><h2 style=\"color:#212121;font-size:20px;font-weight:700\">Student work</h2></td><td style=\"background-color:#eeeeee;padding-right:48px\" width=\"48px\"></td></tr><tr bgcolor=\"#eeeeee\"><td style=\"background-color:#eeeeee;padding-right:48px\" width=\"48px\"></td><td width=\"100%\" bgcolor=\"#eeeeee\"><h3 style=\"color:#737373;font-size:14px;font-weight:700;margin-bottom:16px\">Due next week</h3><table border=\"0\" cellpadding=\"0\" cellspacing=\"0\" style=\"border-collapse:collapse;margin-bottom:16px;table-layout:fixed;width:100%\"><tbody><tr><td style=\"color:#212121;font-size:14px;font-weight:400;background-color:#ffffff;border:1px solid #e0e0e0;padding:16px 24px;word-wrap:break-word\"><div style=\"font-size:14px;line-height:20px;margin-bottom:8px;word-wrap:break-word\">2020 2021 2 Fran\\xc3\\xa7ais 2 <span style=\"color:#737373\">\\xe2\\x80\\x94 due Apr 16</span></div><div style=\"font-size:16px;font-weight:700;margin-bottom:8px;word-wrap:break-word\">NG 16/4  2B2 y et en introduction </div></td></tr><tr><td style=\"color:#212121;font-size:14px;font-weight:400;background-color:#ffffff;border:1px solid #e0e0e0;padding:16px 24px;word-wrap:break-word\"><div style=\"font-size:14px;line-height:20px;margin-bottom:8px;word-wrap:break-word\">English 9 Honors <span style=\"color:#737373\">\\xe2\\x80\\x94 due Apr 19</span></div><div style=\"font-size:16px;font-weight:700;margin-bottom:8px;word-wrap:break-word\">TKM: Part 6 Response</div><div style=\"font-size:14px;line-height:20px;margin-bottom:8px;word-wrap:break-word\">HW: Respond:\\xe2\\x80\\xa2 What are the responsibilities of being a citizen in a democracy? In Maycomb, what factors get in the way of those responsibilities, even for those who wish their community was more just? What factors get in the way in your community?\\xc2\\xa0\\xe2\\x80\\xa2 What has Scout learned about being a responsible adult and citizen over the course of the novel? What people and experiences were most influential in her growth and development? What people and experiences have had the greatest impact in your life?<br></div></td></tr><tr><td style=\"color:#212121;font-size:14px;font-weight:400;background-color:#ffffff;border:1px solid #e0e0e0;padding:16px 24px;word-wrap:break-word\"><div style=\"font-size:14px;line-height:20px;margin-bottom:8px;word-wrap:break-word\">English 9 Honors <span style=\"color:#737373\">\\xe2\\x80\\x94 due Apr 19</span></div><div style=\"font-size:16px;font-weight:700;margin-bottom:8px;word-wrap:break-word\">TKM: Part 6 Handouts</div></td></tr></tbody></table></td><td style=\"background-color:#eeeeee;padding-right:48px\" width=\"48px\"></td></tr><tr bgcolor=\"#eeeeee\"><td style=\"background-color:#eeeeee;padding-right:48px\" width=\"48px\"></td><td width=\"100%\" bgcolor=\"#eeeeee\"><div style=\"height:16px\"></div><h2 style=\"color:#212121;font-size:20px;font-weight:700\">Class activity</h2></td><td style=\"background-color:#eeeeee;padding-right:48px\" width=\"48px\"></td></tr><tr bgcolor=\"#eeeeee\"><td style=\"background-color:#eeeeee;padding-right:48px\" width=\"48px\"></td><td width=\"100%\" bgcolor=\"#eeeeee\"><table border=\"0\" cellpadding=\"0\" cellspacing=\"0\" style=\"border-collapse:collapse;margin-bottom:16px;table-layout:fixed;width:100%\"><tbody><tr><td><table><tbody><tr><th style=\"padding:8px 0 16px 0;text-align:left;vertical-align:middle;padding-right:16px\"><table border=\"0\" cellpadding=\"0\" cellspacing=\"0\" style=\"border-radius:50%;background-color:#1967d2;height:40px;width:40px;border-collapse:collapse;display:inline-block;font-size:20px;margin:0\"><tbody><tr><td style=\"color:#ffffff;font-weight:700;padding:0;text-align:center;vertical-align:middle\" height=\"40px\" width=\"40px\">2</td></tr></tbody></table></th><th style=\"padding:8px 0 16px 0;text-align:left;vertical-align:middle;max-width:596px;word-wrap:break-word\"><h3 style=\"color:#1967d2;font-size:20px;font-weight:700;margin-bottom:4px\"><a name=\"m_1431221229862583219_cMTMwNDY5OTQ5MDQx\" id=\"m_1431221229862583219cMTMwNDY5OTQ5MDQx\">2020 2021 2 Fran\\xc3\\xa7ais 2</a></h3><div style=\"color:#737373;font-size:14px;font-weight:400\">Herveline Sartori</div></th></tr></tbody></table></td></tr><tr><td style=\"color:#212121;font-size:14px;font-weight:400;background-color:#ffffff;border:1px solid #e0e0e0;padding:16px 24px;word-wrap:break-word\"><div style=\"font-size:14px;line-height:20px;margin-bottom:8px;word-wrap:break-word;color:#737373\">Announcement</div><div style=\"font-size:14px;line-height:20px;margin-bottom:8px;word-wrap:break-word\">Zoom link<br><br>Herveline Sartori is inviting you to a scheduled Zoom meeting.<br><br>Topic: classe de fran\\xc3\\xa7ais<br>Join Zoom Meeting<br><a href=\"https://zoom.us/j/91003783230?pwd=MUhmQnhLTU4zVmFMcHlMY2Z4KzRqUT09\" target=\"_blank\">https://zoom.us/j/91003783230?pwd=MUhmQnhLTU4zVmFMcHlMY2Z4KzRqUT09</a><br><br>Meeting ID: 910 0378 3230<br>Passcode: 919956<br><br>Madame Sartori</div><div style=\"color:#737373\">Posted Apr 12</div></td></tr><tr><td style=\"color:#212121;font-size:14px;font-weight:400;background-color:#ffffff;border:1px solid #e0e0e0;padding:16px 24px;word-wrap:break-word\"><div style=\"font-size:14px;line-height:20px;margin-bottom:8px;word-wrap:break-word;color:#737373\"></div><div style=\"font-size:16px;font-weight:700;margin-bottom:8px;word-wrap:break-word\">12/4 2b2   y et en et DOP IOP / ordre des pronoms (le\\xc3\\xa7on) </div><div style=\"color:#737373\">Posted Apr 12</div></td></tr><tr><td style=\"color:#212121;font-size:14px;font-weight:400;background-color:#ffffff;border:1px solid #e0e0e0;padding:16px 24px;word-wrap:break-word\"><div style=\"font-size:14px;line-height:20px;margin-bottom:8px;word-wrap:break-word;color:#737373\">Assignment <span style=\"color:#737373\">\\xe2\\x80\\x94 due Apr 12</span></div><div style=\"font-size:16px;font-weight:700;margin-bottom:8px;word-wrap:break-word\">12/4 2B culture la s\\xc3\\xa9curit\\xc3\\xa9 sociale p. 110 et 111 (assigned for 1/4 by mistake, was meant to be for 12/4) </div><div style=\"font-size:14px;line-height:20px;margin-bottom:8px;word-wrap:break-word\">oh no sorry, I made a mistake, I assigned this too early, I meant to assign this after break. Sorry about this.\\xc2\\xa0<br><br>Well everyone is done, you can all have a great break.<br>Thanks for being amazing students!</div><div style=\"color:#737373\">Posted Mar 30</div></td></tr><tr><td style=\"color:#212121;font-size:14px;font-weight:400;background-color:#ffffff;border:1px solid #e0e0e0;padding:16px 24px;word-wrap:break-word\"><div style=\"font-size:14px;line-height:20px;margin-bottom:8px;word-wrap:break-word;color:#737373\">Announcement</div><div style=\"font-size:14px;line-height:20px;margin-bottom:8px;word-wrap:break-word\">12/4 le\\xc3\\xa7on + chat + read my note\\xc2\\xa0</div><div style=\"color:#737373\">Posted Apr 12</div></td></tr><tr><td style=\"color:#212121;font-size:14px;font-weight:400;background-color:#ffffff;border:1px solid #e0e0e0;padding:16px 24px;word-wrap:break-word\"><div style=\"font-size:14px;line-height:20px;margin-bottom:8px;word-wrap:break-word;color:#737373\">Assignment <span style=\"color:#737373\">\\xe2\\x80\\x94 due Apr 14</span></div><div style=\"font-size:16px;font-weight:700;margin-bottom:8px;word-wrap:break-word\">14/4 Panorama: la Suisse p. 118 et 119 </div><div style=\"color:#737373\">Posted Apr 12</div></td></tr><tr><td style=\"color:#212121;font-size:14px;font-weight:400;background-color:#ffffff;border:1px solid #e0e0e0;padding:16px 24px;word-wrap:break-word\"><div style=\"font-size:14px;line-height:20px;margin-bottom:8px;word-wrap:break-word;color:#737373\">Announcement</div><div style=\"font-size:14px;line-height:20px;margin-bottom:8px;word-wrap:break-word\">14/4 le\\xc3\\xa7on + chat\\xc2\\xa0</div><div style=\"color:#737373\">Posted Apr 14</div></td></tr><tr><td style=\"color:#212121;font-size:14px;font-weight:400;background-color:#ffffff;border:1px solid #e0e0e0;padding:16px 24px;word-wrap:break-word\"><div style=\"font-size:14px;line-height:20px;margin-bottom:8px;word-wrap:break-word;color:#737373\">Assignment <span style=\"color:#737373\">\\xe2\\x80\\x94 due Apr 16</span></div><div style=\"font-size:16px;font-weight:700;margin-bottom:8px;word-wrap:break-word\">16/4 3A vocabulaire le son  et l&#39;image </div><div style=\"color:#737373\">Posted Apr 14</div></td></tr><tr><td style=\"color:#212121;font-size:14px;font-weight:400;background-color:#ffffff;border:1px solid #e0e0e0;padding:16px 24px;word-wrap:break-word\"><div style=\"font-size:14px;line-height:20px;margin-bottom:8px;word-wrap:break-word;color:#737373\">Assignment <span style=\"color:#737373\">\\xe2\\x80\\x94 due Apr 16</span></div><div style=\"font-size:16px;font-weight:700;margin-bottom:8px;word-wrap:break-word\">NG 16/4  2B2 y et en introduction </div><div style=\"color:#737373\">Posted Apr 16</div></td></tr><tr><td style=\"color:#212121;font-size:14px;font-weight:400;background-color:#ffffff;border:1px solid #e0e0e0;padding:16px 24px;word-wrap:break-word\"><div style=\"font-size:14px;line-height:20px;margin-bottom:8px;word-wrap:break-word;color:#737373\">Announcement</div><div style=\"font-size:14px;line-height:20px;margin-bottom:8px;word-wrap:break-word\">16/4 le\\xc3\\xa7on + chat\\xc2\\xa0<br>+ introduction y et en\\xc2\\xa0<br>p. 114 ex 2 et 3 + le\\xc3\\xa7on\\xc2\\xa0</div><div style=\"color:#737373\">Posted Apr 16</div></td></tr><tr><td style=\"color:#212121;font-size:14px;font-weight:400;background-color:#ffffff;border:1px solid #e0e0e0;padding:16px 24px;word-wrap:break-word\"><div style=\"font-size:14px;line-height:20px;margin-bottom:8px;word-wrap:break-word;color:#737373\"></div><div style=\"font-size:16px;font-weight:700;margin-bottom:8px;word-wrap:break-word\">2b2 y et en le\\xc3\\xa7on et exercices p. 114 ex 2 et 3 </div><div style=\"color:#737373\">Posted Apr 16</div></td></tr><tr><td style=\"color:#212121;font-size:14px;font-weight:400;background-color:#ffffff;border:1px solid #e0e0e0;padding:16px 24px;word-wrap:break-word\"><div style=\"font-size:14px;line-height:20px;margin-bottom:8px;word-wrap:break-word;color:#737373\"></div><div style=\"font-size:16px;font-weight:700;margin-bottom:8px;word-wrap:break-word\">2b2 y et en le\\xc3\\xa7on et exercices p. 114 ex 2 et 3 </div><div style=\"color:#737373\">Posted Apr 16</div></td></tr><tr><td style=\"color:#212121;font-size:14px;font-weight:400;background-color:#ffffff;border:1px solid #e0e0e0;padding:16px 24px;word-wrap:break-word\"><div style=\"font-size:14px;line-height:20px;margin-bottom:8px;word-wrap:break-word;color:#737373\">Announcement</div><div style=\"font-size:14px;line-height:20px;margin-bottom:8px;word-wrap:break-word\">Zoom link<br><br>Herveline Sartori is inviting you to a scheduled Zoom meeting.<br><br>Topic: classe de fran\\xc3\\xa7ais<br>Join Zoom Meeting<br><a href=\"https://zoom.us/j/91003783230?pwd=MUhmQnhLTU4zVmFMcHlMY2Z4KzRqUT09\" target=\"_blank\">https://zoom.us/j/91003783230?pwd=MUhmQnhLTU4zVmFMcHlMY2Z4KzRqUT09</a><br><br>Meeting ID: 910 0378 3230<br>Passcode: 919956<br><br>Madame Sartori</div><div style=\"color:#737373\">Posted Apr 16</div></td></tr></tbody></table><table border=\"0\" cellpadding=\"0\" cellspacing=\"0\" style=\"border-collapse:collapse;margin-bottom:16px;table-layout:fixed;width:100%\"><tbody><tr><td><table><tbody><tr><th style=\"padding:8px 0 16px 0;text-align:left;vertical-align:middle;padding-right:16px\"><table border=\"0\" cellpadding=\"0\" cellspacing=\"0\" style=\"border-radius:50%;background-color:#137333;height:40px;width:40px;border-collapse:collapse;display:inline-block;font-size:20px;margin:0\"><tbody><tr><td style=\"color:#ffffff;font-weight:700;padding:0;text-align:center;vertical-align:middle\" height=\"40px\" width=\"40px\">E</td></tr></tbody></table></th><th style=\"padding:8px 0 16px 0;text-align:left;vertical-align:middle;max-width:596px;word-wrap:break-word\"><h3 style=\"color:#137333;font-size:20px;font-weight:700;margin-bottom:4px\"><a name=\"m_1431221229862583219_cOTQ5MTUxODAwNTRa\" id=\"m_1431221229862583219cOTQ5MTUxODAwNTRa\">English 9 Honors</a></h3><div style=\"color:#737373;font-size:14px;font-weight:400\">Anisha Malkani,\\xc2\\xa0Tiffany Stelle</div></th></tr></tbody></table></td></tr><tr><td style=\"color:#212121;font-size:14px;font-weight:400;background-color:#ffffff;border:1px solid #e0e0e0;padding:16px 24px;word-wrap:break-word\"><div style=\"font-size:14px;line-height:20px;margin-bottom:8px;word-wrap:break-word;color:#737373\">Announcement</div><div style=\"font-size:14px;line-height:20px;margin-bottom:8px;word-wrap:break-word\">Alameda County Youth Poet Laureate 2021<br><br>Applications for the Youth Poet Laureate program will be accepted from Thursday, April 1 through Friday, April 30, 2021. <br>All applications are due on April 30, 2021.<br><br>To be eligible for the competition you must: <br>\\xc2\\xb7 Be an Alameda County resident, but not live in Oakland. For residents of Oakland, visit the Oakland Youth Poet Laureate Chapter.<br>\\xc2\\xb7 Be between the ages of 13-18 as of May 1, 2021.<br>\\xc2\\xb7 Be available to serve as Laureate for the program year, August 6, 2021 to August 5, 2022 by living locally and not being enrolled in college full time during the tenure.<br>Finalists will be announced at the end of July. <br>Poems will be judged on content, craft, and voice. If you advance to the interview round, applicants are also judged on leadership and performance.<br>The application: <br><a href=\"https://aclibrary.org/youth-poet-2021-application/\" target=\"_blank\">https://aclibrary.org/youth-poet-2021-application/</a></div><div style=\"color:#737373\">Posted Apr 9</div></td></tr><tr><td style=\"color:#212121;font-size:14px;font-weight:400;background-color:#ffffff;border:1px solid #e0e0e0;padding:16px 24px;word-wrap:break-word\"><div style=\"font-size:14px;line-height:20px;margin-bottom:8px;word-wrap:break-word;color:#737373\">Announcement</div><div style=\"font-size:14px;line-height:20px;margin-bottom:8px;word-wrap:break-word\">Here are our reoccurring Zoom links. Please save these in your Google Calander! We will be using this link all year!<br><br>Period 1 (Mondays, Tuesdays, Thursdays):<br><a href=\"https://zoom.us/j/96951277741?pwd=MTJsa1hUUnRDSjV6RzZOOU5pZmNzQT09\" target=\"_blank\">https://zoom.us/j/96951277741?pwd=MTJsa1hUUnRDSjV6RzZOOU5pZmNzQT09</a><br><br>Period 3 (Mondays, Tuesdays, Thursdays):<br><a href=\"https://zoom.us/j/96920159152?pwd=SC9Wa2pwRm1Sa3pyWXZuWnFMK0dldz09\" target=\"_blank\">https://zoom.us/j/96920159152?pwd=SC9Wa2pwRm1Sa3pyWXZuWnFMK0dldz09</a><br><br>Period 4  (Mondays, Wednesdays, Friday):  <a href=\"https://zoom.us/j/93293560155?pwd=bjR6SjN6dzkvUE1YTkd0UitrN0Q5QT09\" target=\"_blank\">https://zoom.us/j/93293560155?pwd=bjR6SjN6dzkvUE1YTkd0UitrN0Q5QT09</a></div><div style=\"color:#737373\">Posted Aug 26</div></td></tr><tr><td style=\"color:#212121;font-size:14px;font-weight:400;background-color:#ffffff;border:1px solid #e0e0e0;padding:16px 24px;word-wrap:break-word\"><div style=\"font-size:14px;line-height:20px;margin-bottom:8px;word-wrap:break-word;color:#737373\">Announcement</div><div style=\"font-size:14px;line-height:20px;margin-bottom:8px;word-wrap:break-word\">NOVEL EXCHANGE!!!<br><br>The next novel exchange will take place on Tuesday and Wednesday, April 13-14 during office hours, break, and from 2:30-3:00 in the book room.<br><br>You will keep TKM as we are not done yet and keep F451 if you have it. <br>You may return The Odyssey and OMAM if you still have them. <br>You should pick up F451 (if you haven&#39;t), Animal Farm, and Romeo and Juliet. <br><br>I have PDFs for these, but if you want a hard copy please pick it up at the above times!!!</div><div style=\"color:#737373\">Posted Mar 29</div></td></tr><tr><td style=\"color:#212121;font-size:14px;font-weight:400;background-color:#ffffff;border:1px solid #e0e0e0;padding:16px 24px;word-wrap:break-word\"><div style=\"font-size:14px;line-height:20px;margin-bottom:8px;word-wrap:break-word;color:#737373\">Assignment <span style=\"color:#737373\">\\xe2\\x80\\x94 due Apr 16</span></div><div style=\"font-size:16px;font-weight:700;margin-bottom:8px;word-wrap:break-word\">MC Week Housepoints (Optional)</div><div style=\"font-size:14px;line-height:20px;margin-bottom:8px;word-wrap:break-word\">Take a screen shot of your virtual background or profile picture for house points! Also, if you attended any events or fundraisers, include those as well!</div><div style=\"color:#737373\">Posted Apr 13</div></td></tr><tr><td style=\"color:#212121;font-size:14px;font-weight:400;background-color:#ffffff;border:1px solid #e0e0e0;padding:16px 24px;word-wrap:break-word\"><div style=\"font-size:14px;line-height:20px;margin-bottom:8px;word-wrap:break-word;color:#737373\"></div><div style=\"font-size:16px;font-weight:700;margin-bottom:8px;word-wrap:break-word\">Novel Exchange</div><div style=\"font-size:14px;line-height:20px;margin-bottom:8px;word-wrap:break-word\">NOVEL EXCHANGE!!!<br><br>The next novel exchange will take place on Tuesday and Wednesday, April 13-14 during office hours, break, and from 2:30-3:00 in the book room.<br><br>You will keep TKM as we are not done yet and keep F451 if you have it. <br>You may return The Odyssey and OMAM if you still have them. <br>You should pick up F451 (if you haven&#39;t), Animal Farm, and Romeo and Juliet. <br><br>I have PDFs for these, but if you want a hard copy please pick it up at the above times!!!</div><div style=\"color:#737373\">Posted Apr 13</div></td></tr><tr><td style=\"color:#212121;font-size:14px;font-weight:400;background-color:#ffffff;border:1px solid #e0e0e0;padding:16px 24px;word-wrap:break-word\"><div style=\"font-size:14px;line-height:20px;margin-bottom:8px;word-wrap:break-word;color:#737373\">Announcement</div><div style=\"font-size:14px;line-height:20px;margin-bottom:8px;word-wrap:break-word\">HOUSE POINT WINNERS QUARTER 3:<br>Period 1: Gryffindor!<br>Period 3: Ravenclaw!<br>Period 4: Hufflepuff and Slytherin! (Tie)<br><br><br><br><br>THE STUDENTS IN THE ABOVE GROUPS HAVE EARNED 2 FREE ASSIGNMENT PASSES TO BE USED ON CLASSWORK OR HOMEWORK ASSIGNMENTS (25 POINTS OR UNDER). YOU CAN CLAIM THESE BY WRITING A PRIVATE COMMENT ON THE ASSIGNMENT ON GOOGLE CLASSROOM IN WHICH YOU WANT TO USE THE PASS FOR.<br><br><br></div><div style=\"color:#737373\">Posted Apr 14</div></td></tr><tr><td style=\"color:#212121;font-size:14px;font-weight:400;background-color:#ffffff;border:1px solid #e0e0e0;padding:16px 24px;word-wrap:break-word\"><div style=\"font-size:14px;line-height:20px;margin-bottom:8px;word-wrap:break-word;color:#737373\">Announcement</div><div style=\"font-size:14px;line-height:20px;margin-bottom:8px;word-wrap:break-word\">heyyyy!<br><br>If you love boba then get excited because Peer Resource is launching a boba raffle fundraiser! The raffle tickets are only $2.50 and we will be picking 10 lucky winners. Enter for your chance to win boba, delivered to your front doorstep!  You can order until Wednesday, April 21st, at 11:59 PM. Winners will be announced the next day on Peer Resource\\xe2\\x80\\x99s Instagram. <br><br>Make sure to order using this form: <a href=\"https://tinyurl.com/peerbobaraffle\" target=\"_blank\">https://tinyurl.com/peerbobaraffle</a> and check the description of the form for more details! <br><br>All of the money earned from this raffle will directly go to supporting the annual Peer Benefit Show. We thank you for contributing, and good luck!<br><br>Peer Resource</div><div style=\"color:#737373\">Posted Apr 14</div></td></tr><tr><td style=\"color:#212121;font-size:14px;font-weight:400;background-color:#ffffff;border:1px solid #e0e0e0;padding:16px 24px;word-wrap:break-word\"><div style=\"font-size:14px;line-height:20px;margin-bottom:8px;word-wrap:break-word;color:#737373\">Announcement</div><div style=\"font-size:14px;line-height:20px;margin-bottom:8px;word-wrap:break-word\">HOUSE GROUPS FOR 4th QUARTER!!!<br><br><br>This quarter, the prize will be 10 extra points to be added to ANY assignment(s)!!!!\\xc2\\xa0</div><div style=\"color:#737373\">Posted Apr 15</div></td></tr><tr><td style=\"color:#212121;font-size:14px;font-weight:400;background-color:#ffffff;border:1px solid #e0e0e0;padding:16px 24px;word-wrap:break-word\"><div style=\"font-size:14px;line-height:20px;margin-bottom:8px;word-wrap:break-word;color:#737373\">Announcement</div><div style=\"font-size:14px;line-height:20px;margin-bottom:8px;word-wrap:break-word\">Here is the feedback for for this week! Please take the time to fill it out!<br><br><br><a href=\"https://forms.gle/wgdszVkCeNyv2gRTA\" target=\"_blank\">https://forms.gle/wgdszVkCeNyv2gRTA</a><br><br><br></div><div style=\"color:#737373\">Posted Apr 16</div></td></tr></tbody></table></td><td style=\"background-color:#eeeeee;padding-right:48px\" width=\"48px\"></td></tr><tr bgcolor=\"#eeeeee\"><td style=\"background-color:#eeeeee;padding-right:48px\" width=\"48px\"></td><td width=\"100%\" bgcolor=\"#eeeeee\"><div style=\"color:#737373;font-size:14px;font-weight:400;background:#eeeeee;font-size:12px;padding:8px\">Don&#39;t see a class? Contact the teacher. They might not use Classroom or may not have turned on guardian summaries.</div></td><td style=\"background-color:#eeeeee;padding-right:48px\" width=\"48px\"></td></tr><tr bgcolor=\"#eeeeee\"><td style=\"background-color:#eeeeee;padding-right:48px\" width=\"48px\"></td><td width=\"100%\" bgcolor=\"#eeeeee\"><div style=\"color:#737373;font-size:14px;font-weight:400;background:#eeeeee;font-size:12px;padding:8px\">Forward to only those you trust. Anyone with this email may be able to adjust your settings.</div></td><td style=\"background-color:#eeeeee;padding-right:48px\" width=\"48px\"></td></tr><tr bgcolor=\"#eeeeee\"><td style=\"background-color:#eeeeee;padding-right:48px\" width=\"48px\"></td><td width=\"100%\" bgcolor=\"#eeeeee\"><div style=\"border-top:1px solid #a0a0a0;margin:0 auto;margin-top:16px;padding-top:16px\"></div><div style=\"height:8px\"></div><div style=\"text-align:center\"><table border=\"0\" cellpadding=\"0\" cellspacing=\"0\" style=\"border-collapse:collapse;display:inline-block\"><tbody><tr><td><a href=\"https://notifications.google.com/g/p/AD-FnEzD85l_b-G6BU8IQTHzTCUTZsj2dBb_ffFmhKP370NkfeKoPZubEQ95TK-eBMqQ-SNH__lJIr6Io9JfAUBZsTM\" style=\"border-radius:3px;box-sizing:border-box;display:inline-block;font-size:14px;font-weight:700;height:32px;line-height:32px;padding:0 24px;text-align:center;text-decoration:none;text-transform:uppercase;vertical-align:middle;color:#737373\" target=\"_blank\">Settings</a></td></tr></tbody></table><table border=\"0\" cellpadding=\"0\" cellspacing=\"0\" style=\"border-collapse:collapse;display:inline-block\"><tbody><tr><td><a href=\"https://notifications.google.com/g/p/AD-FnExU-F8UyMH8umjpKaDFIPirE8UQTZ66eCt1tJhYt-lJ5xNMfrDwkhPlpLDEuRrMM_tfColruYOdkE8D8cCQGRyRL-bOOIFRsk4q7ApbT1PdWoQSqDkhZB2fA3D7jyXTimFIIOnlEjNf1v4IBEDUziVEIw\" style=\"border-radius:3px;box-sizing:border-box;display:inline-block;font-size:14px;font-weight:700;height:32px;line-height:32px;padding:0 24px;text-align:center;text-decoration:none;text-transform:uppercase;vertical-align:middle;color:#737373\" target=\"_blank\">Unsubscribe</a></td></tr></tbody></table></div><div style=\"height:24px\"></div></td><td style=\"background-color:#eeeeee;padding-right:48px\" width=\"48px\"></td></tr><tr height=\"8px\"></tr><tr bgcolor=\"#eeeeee\"><td style=\"background-color:#eeeeee;padding-right:48px\" width=\"48px\"></td><td width=\"100%\" bgcolor=\"#eeeeee\"><div style=\"border-top:1px solid #a0a0a0;margin:0 auto;width:32px\"></div><div style=\"text-align:center;padding-top:24px;margin-bottom:8px\"><img alt=\"Google logo\" height=\"24px\" src=\"https://www.gstatic.com/classroom/email/google_logo.png\" width=\"74px\"></div><div style=\"color:#a0a0a0;font-size:12px;font-weight:400;text-align:center\">Google LLC<br>1600 Amphitheatre Pkwy<br>Mountain View, CA 94043 USA</div></td><td style=\"background-color:#eeeeee;padding-right:48px\" width=\"48px\"></td></tr><tr height=\"32px\"></tr><tr height=\"16px\" bgcolor=\"#eeeeee\"><td style=\"background-color:#eeeeee;padding-right:48px\" width=\"48px\"></td><td width=\"100%\" bgcolor=\"#eeeeee\"></td><td style=\"background-color:#eeeeee;padding-right:48px\" width=\"48px\"></td></tr><tr bgcolor=\"#eeeeee\"><td style=\"background-color:#eeeeee;padding-right:48px\" width=\"48px\"></td><td width=\"100%\" bgcolor=\"#eeeeee\"><div style=\"text-align:center;background:#ffffff\"><div style=\"height:24px\"></div><img src=\"https://gstatic.com/classroom/email/feedback.png\" height=\"80px;\" width=\"80px;\"><h1 style=\"color:#212121;font-size:20px;font-weight:700;margin:16px 0 4px 0;text-align:center;margin:16px 0 16px 0\">Is this email helpful?</h1><table border=\"0\" cellpadding=\"0\" cellspacing=\"0\" style=\"border-collapse:collapse;display:inline-block\"><tbody><tr><td><a href=\"https://notifications.google.com/g/p/AD-FnExJ0VTAfqVb8mPUp5WhCNwffdw1fWWfud3268zCHPsrMnkUToqIeBcx8bSDQ2X_BhSssHI9JFGqx0Wc8NbDfjgSi2U5ngZS4eTyHP1PJg\" style=\"border-radius:3px;box-sizing:border-box;display:inline-block;font-size:14px;font-weight:700;height:32px;line-height:32px;padding:0 24px;text-align:center;text-decoration:none;text-transform:uppercase;vertical-align:middle;background-color:#4285f4;color:#ffffff\" target=\"_blank\">Send feedback</a></td></tr></tbody></table><div style=\"height:24px\"></div></div></td><td style=\"background-color:#eeeeee;padding-right:48px\" width=\"48px\"></td></tr></tbody></table></td></tr></tbody></table><img alt=\"\" height=\"1\" width=\"3\" src=\"https://notifications.google.com/g/img/AD-FnEzc5cw3hA4wYpHmP1WxYgF5tRVGjj6l_L6KNEnXCqc.gif\"></div></div></div>\\n'\n"
     ]
    }
   ],
   "source": [
    "print(sender, subject, body_text, body_html)"
   ]
  },
  {
   "cell_type": "code",
   "execution_count": 8,
   "metadata": {},
   "outputs": [],
   "source": [
    "import boto3\n",
    "session = boto3.session.Session(profile_name='vbalasu_admin')\n",
    "ses = session.client('ses')"
   ]
  },
  {
   "cell_type": "code",
   "execution_count": 9,
   "metadata": {},
   "outputs": [],
   "source": [
    "from email.message import EmailMessage\n",
    "from email import policy\n",
    "response = EmailMessage(policy=policy.default)"
   ]
  },
  {
   "cell_type": "code",
   "execution_count": 10,
   "metadata": {},
   "outputs": [],
   "source": [
    "response['To'] = sender\n",
    "response['Subject'] = subject\n",
    "response['From'] = 'echo@cloudmatica.com'"
   ]
  },
  {
   "cell_type": "code",
   "execution_count": 11,
   "metadata": {},
   "outputs": [],
   "source": [
    "response.set_content(body_text, maintype='text', subtype='plain') #, cte='quoted-printable'\n",
    "response.add_alternative(body_html, maintype='text', subtype='html') #, cte='quoted-printable'"
   ]
  },
  {
   "cell_type": "code",
   "execution_count": 12,
   "metadata": {},
   "outputs": [],
   "source": [
    "for a in msg.iter_attachments():\n",
    "    response.attach(a)"
   ]
  },
  {
   "cell_type": "code",
   "execution_count": 13,
   "metadata": {},
   "outputs": [],
   "source": [
    "with open('response.eml', 'wb') as f:\n",
    "    f.write(response.as_bytes())"
   ]
  },
  {
   "cell_type": "code",
   "execution_count": 14,
   "metadata": {},
   "outputs": [],
   "source": [
    "!open response.eml"
   ]
  },
  {
   "cell_type": "code",
   "execution_count": 15,
   "metadata": {},
   "outputs": [],
   "source": [
    "#response.as_string()"
   ]
  },
  {
   "cell_type": "code",
   "execution_count": 16,
   "metadata": {},
   "outputs": [],
   "source": [
    "#ses.send_raw_email(RawMessage={'Data': response.as_bytes()})"
   ]
  },
  {
   "cell_type": "code",
   "execution_count": 17,
   "metadata": {},
   "outputs": [],
   "source": [
    "#import boto3\n",
    "#session = boto3.session.Session(profile_name='vbalasu_admin')\n",
    "#s3 = session.client('s3')\n",
    "#s3.download_file('mail.cloudmatica.com', 'echo/81nim74n8q0h8q70sg3inomd5v78lhgsd6njq0o1', '/tmp/81nim74n8q0h8q70sg3inomd5v78lhgsd6njq0o1')\n",
    "#import os\n",
    "#os.path.exists('/tmp/81nim74n8q0h8q70sg3inomd5v78lhgsd6njq0o1')"
   ]
  }
 ],
 "metadata": {
  "kernelspec": {
   "display_name": "Python 3",
   "language": "python",
   "name": "python3"
  },
  "language_info": {
   "codemirror_mode": {
    "name": "ipython",
    "version": 3
   },
   "file_extension": ".py",
   "mimetype": "text/x-python",
   "name": "python",
   "nbconvert_exporter": "python",
   "pygments_lexer": "ipython3",
   "version": "3.8.3"
  }
 },
 "nbformat": 4,
 "nbformat_minor": 4
}
