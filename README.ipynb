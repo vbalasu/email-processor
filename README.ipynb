{
 "cells": [
  {
   "cell_type": "markdown",
   "metadata": {},
   "source": [
    "# email-processor\n",
    "\n",
    "Reads an incoming email, processes it, and responds"
   ]
  },
  {
   "cell_type": "code",
   "execution_count": 1,
   "metadata": {},
   "outputs": [],
   "source": [
    "# Read local email\n",
    "\n",
    "import email\n",
    "from email import policy\n",
    "with open('gk737rkcitf1bo8hb19tnme9m5818b3lofhn2jo1') as f:\n",
    "    msg = email.message_from_file(f, policy=policy.default)"
   ]
  },
  {
   "cell_type": "code",
   "execution_count": 2,
   "metadata": {},
   "outputs": [],
   "source": [
    "#msg.as_string()"
   ]
  },
  {
   "cell_type": "code",
   "execution_count": 3,
   "metadata": {},
   "outputs": [],
   "source": [
    "sender = msg.get('From')"
   ]
  },
  {
   "cell_type": "code",
   "execution_count": 4,
   "metadata": {},
   "outputs": [],
   "source": [
    "subject = msg.get('Subject')"
   ]
  },
  {
   "cell_type": "code",
   "execution_count": 5,
   "metadata": {},
   "outputs": [],
   "source": [
    "body_text = msg.get_body('plain').get_payload()\n",
    "body_html = msg.get_body('html').get_payload()"
   ]
  },
  {
   "cell_type": "markdown",
   "metadata": {},
   "source": [
    "### Respond with echo"
   ]
  },
  {
   "cell_type": "code",
   "execution_count": 6,
   "metadata": {},
   "outputs": [
    {
     "name": "stdout",
     "output_type": "stream",
     "text": [
      "Vijay Balasubramaniam <vbalasu@gmail.com> Message with attachments There are two attachments\n",
      " <div dir=\"ltr\">There are two attachments<div><br></div></div>\n",
      "\n"
     ]
    }
   ],
   "source": [
    "print(sender, subject, body_text, body_html)"
   ]
  },
  {
   "cell_type": "code",
   "execution_count": 7,
   "metadata": {},
   "outputs": [],
   "source": [
    "import boto3\n",
    "session = boto3.session.Session(profile_name='vbalasu_admin')\n",
    "ses = session.client('ses')"
   ]
  },
  {
   "cell_type": "code",
   "execution_count": 8,
   "metadata": {},
   "outputs": [],
   "source": [
    "from email.message import EmailMessage\n",
    "from email import policy\n",
    "response = EmailMessage(policy=policy.default)"
   ]
  },
  {
   "cell_type": "code",
   "execution_count": 9,
   "metadata": {},
   "outputs": [],
   "source": [
    "response['To'] = sender\n",
    "response['Subject'] = subject\n",
    "response['From'] = 'echo@cloudmatica.com'"
   ]
  },
  {
   "cell_type": "code",
   "execution_count": 10,
   "metadata": {},
   "outputs": [],
   "source": [
    "response.set_content(body_text, subtype='plain')\n",
    "response.add_alternative(body_html, subtype='html')"
   ]
  },
  {
   "cell_type": "code",
   "execution_count": 11,
   "metadata": {},
   "outputs": [],
   "source": [
    "for a in msg.iter_attachments():\n",
    "    response.attach(a)"
   ]
  },
  {
   "cell_type": "code",
   "execution_count": 12,
   "metadata": {},
   "outputs": [],
   "source": [
    "#response.as_string()"
   ]
  },
  {
   "cell_type": "code",
   "execution_count": 13,
   "metadata": {},
   "outputs": [
    {
     "data": {
      "text/plain": [
       "{'MessageId': '01000178c207b8c5-766832d8-f868-46ac-91ef-eca11e0801b5-000000',\n",
       " 'ResponseMetadata': {'RequestId': 'ab86e148-4ffc-48b1-8504-2cc2fe888826',\n",
       "  'HTTPStatusCode': 200,\n",
       "  'HTTPHeaders': {'date': 'Sun, 11 Apr 2021 17:43:09 GMT',\n",
       "   'content-type': 'text/xml',\n",
       "   'content-length': '338',\n",
       "   'connection': 'keep-alive',\n",
       "   'x-amzn-requestid': 'ab86e148-4ffc-48b1-8504-2cc2fe888826'},\n",
       "  'RetryAttempts': 0}}"
      ]
     },
     "execution_count": 13,
     "metadata": {},
     "output_type": "execute_result"
    }
   ],
   "source": [
    "ses.send_raw_email(RawMessage={'Data': response.as_bytes()})"
   ]
  },
  {
   "cell_type": "code",
   "execution_count": 17,
   "metadata": {},
   "outputs": [],
   "source": [
    "import boto3\n",
    "session = boto3.session.Session(profile_name='vbalasu_admin')\n",
    "s3 = session.client('s3')"
   ]
  },
  {
   "cell_type": "code",
   "execution_count": 22,
   "metadata": {},
   "outputs": [],
   "source": [
    "s3.download_file('mail.cloudmatica.com', 'echo/81nim74n8q0h8q70sg3inomd5v78lhgsd6njq0o1', '/tmp/81nim74n8q0h8q70sg3inomd5v78lhgsd6njq0o1')"
   ]
  },
  {
   "cell_type": "code",
   "execution_count": 25,
   "metadata": {},
   "outputs": [
    {
     "data": {
      "text/plain": [
       "True"
      ]
     },
     "execution_count": 25,
     "metadata": {},
     "output_type": "execute_result"
    }
   ],
   "source": [
    "import os\n",
    "os.path.exists('/tmp/81nim74n8q0h8q70sg3inomd5v78lhgsd6njq0o1')"
   ]
  },
  {
   "cell_type": "code",
   "execution_count": null,
   "metadata": {},
   "outputs": [],
   "source": []
  }
 ],
 "metadata": {
  "kernelspec": {
   "display_name": "Python 3",
   "language": "python",
   "name": "python3"
  },
  "language_info": {
   "codemirror_mode": {
    "name": "ipython",
    "version": 3
   },
   "file_extension": ".py",
   "mimetype": "text/x-python",
   "name": "python",
   "nbconvert_exporter": "python",
   "pygments_lexer": "ipython3",
   "version": "3.8.3"
  }
 },
 "nbformat": 4,
 "nbformat_minor": 4
}
